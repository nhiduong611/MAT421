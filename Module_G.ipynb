{
  "nbformat": 4,
  "nbformat_minor": 0,
  "metadata": {
    "colab": {
      "provenance": [],
      "authorship_tag": "ABX9TyMIiIkxZqWpyuY8qVfUsPWk",
      "include_colab_link": true
    },
    "kernelspec": {
      "name": "python3",
      "display_name": "Python 3"
    },
    "language_info": {
      "name": "python"
    }
  },
  "cells": [
    {
      "cell_type": "markdown",
      "metadata": {
        "id": "view-in-github",
        "colab_type": "text"
      },
      "source": [
        "<a href=\"https://colab.research.google.com/github/nhiduong611/MAT421/blob/main/Module_G.ipynb\" target=\"_parent\"><img src=\"https://colab.research.google.com/assets/colab-badge.svg\" alt=\"Open In Colab\"/></a>"
      ]
    },
    {
      "cell_type": "markdown",
      "source": [
        "Numerical Integration Problem Statement\n",
        "\n"
      ],
      "metadata": {
        "id": "R6ZJUXjiIH_Z"
      }
    },
    {
      "cell_type": "code",
      "source": [
        "# Estimate the integral of the function f(x) = e^(-x^2)\n",
        "import numpy as np\n",
        "\n",
        "def f(x):\n",
        "    return np.exp(-x**2)\n",
        "\n",
        "def trapezoidal_rule(f, a, b, n):\n",
        "    h = (b - a) / n\n",
        "    sum_ = 0.5 * (f(a) + f(b))\n",
        "    for i in range(1, n):\n",
        "        sum_ += f(a + i * h)\n",
        "    return sum_ * h\n",
        "\n",
        "# Define the interval and number of trapezoids\n",
        "a = 0\n",
        "b = 1\n",
        "n = 1000  # More trapezoids for a better approximation\n",
        "\n",
        "# Calculate the approximation\n",
        "integral_approximation = trapezoidal_rule(f, a, b, n)\n",
        "\n",
        "print(f\"Approximation of the integral: {integral_approximation}\")\n"
      ],
      "metadata": {
        "colab": {
          "base_uri": "https://localhost:8080/"
        },
        "id": "aL9OHMCiJiUb",
        "outputId": "fbe1a2db-6ff6-4fb8-8131-13a681e88d9e"
      },
      "execution_count": 4,
      "outputs": [
        {
          "output_type": "stream",
          "name": "stdout",
          "text": [
            "Approximation of the integral: 0.7468240714991843\n"
          ]
        }
      ]
    },
    {
      "cell_type": "markdown",
      "source": [
        "Riemann’s Integral\n",
        "\n"
      ],
      "metadata": {
        "id": "VUqibxwiIY8v"
      }
    },
    {
      "cell_type": "code",
      "source": [
        "def left_riemann_sum(f, a, b, n):\n",
        "    \"\"\"\n",
        "    Approximate the integral of f(x) from a to b by the left Riemann sum.\n",
        "\n",
        "    :param f: The function to integrate.\n",
        "    :param a: The lower limit of integration.\n",
        "    :param b: The upper limit of integration.\n",
        "    :param n: The number of subintervals.\n",
        "    :return: The approximate integral of f(x) from a to b.\n",
        "    \"\"\"\n",
        "    h = (b - a) / n  # Width of each subinterval\n",
        "    sum = 0\n",
        "    for i in range(n):\n",
        "        sum += f(a + i * h)  # Height of rectangle is f at the left endpoint\n",
        "    return sum * h  # The approximation to the integral\n",
        "\n",
        "# Define the function to integrate\n",
        "def f(x):\n",
        "    return x**2  # An example function\n",
        "\n",
        "# Set the parameters\n",
        "a = 0  # Lower limit of integration\n",
        "b = 1  # Upper limit of integration\n",
        "n = 100  # Number of subintervals\n",
        "\n",
        "# Calculate and print the result\n",
        "result = left_riemann_sum(f, a, b, n)\n",
        "print(f\"Left Riemann Sum Result: {result}\")\n"
      ],
      "metadata": {
        "colab": {
          "base_uri": "https://localhost:8080/"
        },
        "id": "-JWspjZmJNVY",
        "outputId": "d1e9d244-0900-4d7e-82cd-42363e0ae6db"
      },
      "execution_count": 2,
      "outputs": [
        {
          "output_type": "stream",
          "name": "stdout",
          "text": [
            "Left Riemann Sum Result: 0.32835000000000003\n"
          ]
        }
      ]
    },
    {
      "cell_type": "markdown",
      "source": [
        "Trapezoid Rule\n",
        "\n"
      ],
      "metadata": {
        "id": "cBModphEIZLd"
      }
    },
    {
      "cell_type": "code",
      "execution_count": 3,
      "metadata": {
        "colab": {
          "base_uri": "https://localhost:8080/"
        },
        "id": "gHOjPR-PHvof",
        "outputId": "4157b0a2-4c40-46be-ce91-ea1270130214"
      },
      "outputs": [
        {
          "output_type": "stream",
          "name": "stdout",
          "text": [
            "Trapezoid Rule Result: 0.33335000000000004\n"
          ]
        }
      ],
      "source": [
        "def trapezoidal_rule(f, a, b, n):\n",
        "    h = (b - a) / n\n",
        "    result = 0.5 * (f(a) + f(b))\n",
        "    for i in range(1, n):\n",
        "        result += f(a + i * h)\n",
        "    result *= h\n",
        "    return result\n",
        "\n",
        "# Example function\n",
        "def f(x):\n",
        "    return x**2\n",
        "\n",
        "# Example usage\n",
        "a = 0  # Lower limit\n",
        "b = 1  # Upper limit\n",
        "n = 100  # Number of intervals\n",
        "\n",
        "print(\"Trapezoid Rule Result:\", trapezoidal_rule(f, a, b, n))\n"
      ]
    }
  ]
}