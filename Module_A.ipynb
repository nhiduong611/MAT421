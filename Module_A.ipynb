{
  "nbformat": 4,
  "nbformat_minor": 0,
  "metadata": {
    "colab": {
      "provenance": [],
      "authorship_tag": "ABX9TyOW4p+hOBLtd8UkDx/sKHS+",
      "include_colab_link": true
    },
    "kernelspec": {
      "name": "python3",
      "display_name": "Python 3"
    },
    "language_info": {
      "name": "python"
    }
  },
  "cells": [
    {
      "cell_type": "markdown",
      "metadata": {
        "id": "view-in-github",
        "colab_type": "text"
      },
      "source": [
        "<a href=\"https://colab.research.google.com/github/nhiduong611/MAT421/blob/main/Module_A.ipynb\" target=\"_parent\"><img src=\"https://colab.research.google.com/assets/colab-badge.svg\" alt=\"Open In Colab\"/></a>"
      ]
    },
    {
      "cell_type": "markdown",
      "source": [
        "Base-N and Binary"
      ],
      "metadata": {
        "id": "yGL4KK3XtMUJ"
      }
    },
    {
      "cell_type": "code",
      "source": [
        "# Convert from decimal to binary\n",
        "decimal_value = 37\n",
        "base_n_value = format(decimal_value, 'b')\n",
        "print(base_n_value)"
      ],
      "metadata": {
        "colab": {
          "base_uri": "https://localhost:8080/"
        },
        "id": "Lmq4m2PhtSr2",
        "outputId": "c6308e48-9063-4bbe-830e-4d8289a32336"
      },
      "execution_count": 2,
      "outputs": [
        {
          "output_type": "stream",
          "name": "stdout",
          "text": [
            "100101\n"
          ]
        }
      ]
    },
    {
      "cell_type": "code",
      "source": [
        "# Convert from binary to decimal\n",
        "base_n_value = '10001'\n",
        "decimal_value = int(base_n_value, 2)\n",
        "print(decimal_value)"
      ],
      "metadata": {
        "colab": {
          "base_uri": "https://localhost:8080/"
        },
        "id": "lVnajoHHwcrJ",
        "outputId": "91791b73-d681-432d-e9f6-9ba144b410d9"
      },
      "execution_count": 5,
      "outputs": [
        {
          "output_type": "stream",
          "name": "stdout",
          "text": [
            "17\n"
          ]
        }
      ]
    },
    {
      "cell_type": "code",
      "source": [
        "# Binary addition\n",
        "binary_number1 = '100101'\n",
        "binary_number2 = '10001'\n",
        "\n",
        "decimal_number1 = int(binary_number1, 2)\n",
        "decimal_number2 = int(binary_number2, 2)\n",
        "\n",
        "sum_binary = bin(decimal_number1 + decimal_number2)[2:]\n",
        "print(sum_binary)"
      ],
      "metadata": {
        "colab": {
          "base_uri": "https://localhost:8080/"
        },
        "id": "cfN2yuodxFRQ",
        "outputId": "2b63ec33-814f-4025-f267-51a1bba68e31"
      },
      "execution_count": 8,
      "outputs": [
        {
          "output_type": "stream",
          "name": "stdout",
          "text": [
            "110110\n"
          ]
        }
      ]
    },
    {
      "cell_type": "markdown",
      "source": [
        "Floating Point Numbers"
      ],
      "metadata": {
        "id": "KLbyK09Cyc1e"
      }
    },
    {
      "cell_type": "code",
      "source": [
        "import struct\n",
        "\n",
        "binary_float_64 = '1100000000101000000000000000000000000000000000000000000000000000'\n",
        "\n",
        "# Convert binary string to bytes\n",
        "float_64_bytes = int(binary_float_64, 2).to_bytes(8, byteorder='big')\n",
        "\n",
        "# Convert bytes to a 64-bit floating-point number\n",
        "float_64 = struct.unpack('>d', float_64_bytes)[0]\n",
        "\n",
        "# Convert to base 10 (decimal)\n",
        "decimal_representation = str(float_64)\n",
        "\n",
        "print(decimal_representation)\n"
      ],
      "metadata": {
        "colab": {
          "base_uri": "https://localhost:8080/"
        },
        "id": "Gm3Xga7-8imi",
        "outputId": "dd17be39-c40c-419c-da4d-02e69cece5da"
      },
      "execution_count": 12,
      "outputs": [
        {
          "output_type": "stream",
          "name": "stdout",
          "text": [
            "-12.0\n"
          ]
        }
      ]
    },
    {
      "cell_type": "code",
      "source": [
        "import numpy as np\n",
        "np.spacing(1e9)"
      ],
      "metadata": {
        "colab": {
          "base_uri": "https://localhost:8080/"
        },
        "id": "yd6pQ9ADBKEk",
        "outputId": "b2602bbc-dcfa-4516-ec04-4f3bf72d1b03"
      },
      "execution_count": 27,
      "outputs": [
        {
          "output_type": "execute_result",
          "data": {
            "text/plain": [
              "1.1920928955078125e-07"
            ]
          },
          "metadata": {},
          "execution_count": 27
        }
      ]
    },
    {
      "cell_type": "code",
      "source": [
        "1e9 == (1e9 + np.spacing(1e9)/3)"
      ],
      "metadata": {
        "colab": {
          "base_uri": "https://localhost:8080/"
        },
        "id": "dRKee6XlBqZV",
        "outputId": "94fd7485-0645-4930-da7d-8f18a0edeaa8"
      },
      "execution_count": 28,
      "outputs": [
        {
          "output_type": "execute_result",
          "data": {
            "text/plain": [
              "True"
            ]
          },
          "metadata": {},
          "execution_count": 28
        }
      ]
    },
    {
      "cell_type": "code",
      "source": [
        "largest = (2**(2046-1023))*((1 + sum(0.5**np.arange(1, 53))))\n",
        "largest"
      ],
      "metadata": {
        "colab": {
          "base_uri": "https://localhost:8080/"
        },
        "id": "AcnVRLD6Bylo",
        "outputId": "396b41f8-a8a3-408b-d901-88cb0fd6fa5e"
      },
      "execution_count": 29,
      "outputs": [
        {
          "output_type": "execute_result",
          "data": {
            "text/plain": [
              "1.7976931348623157e+308"
            ]
          },
          "metadata": {},
          "execution_count": 29
        }
      ]
    },
    {
      "cell_type": "code",
      "source": [
        "sys.float_info.max"
      ],
      "metadata": {
        "colab": {
          "base_uri": "https://localhost:8080/"
        },
        "id": "7FkLIlJrB2pp",
        "outputId": "6b9a848c-7d02-4641-fa5f-d7efd7c8916a"
      },
      "execution_count": 30,
      "outputs": [
        {
          "output_type": "execute_result",
          "data": {
            "text/plain": [
              "1.7976931348623157e+308"
            ]
          },
          "metadata": {},
          "execution_count": 30
        }
      ]
    },
    {
      "cell_type": "code",
      "source": [
        "smallest = (2**(1-1023))*(1+0)\n",
        "smallest"
      ],
      "metadata": {
        "colab": {
          "base_uri": "https://localhost:8080/"
        },
        "id": "XvzEN-PxB9s-",
        "outputId": "804ed374-1ca2-4f37-de0a-6818fdb7d64b"
      },
      "execution_count": 31,
      "outputs": [
        {
          "output_type": "execute_result",
          "data": {
            "text/plain": [
              "2.2250738585072014e-308"
            ]
          },
          "metadata": {},
          "execution_count": 31
        }
      ]
    },
    {
      "cell_type": "code",
      "source": [
        "sys.float_info.min"
      ],
      "metadata": {
        "colab": {
          "base_uri": "https://localhost:8080/"
        },
        "id": "h_ufRclaCBse",
        "outputId": "3d408608-eca6-40da-870f-d3dde4eef70e"
      },
      "execution_count": 32,
      "outputs": [
        {
          "output_type": "execute_result",
          "data": {
            "text/plain": [
              "2.2250738585072014e-308"
            ]
          },
          "metadata": {},
          "execution_count": 32
        }
      ]
    },
    {
      "cell_type": "code",
      "source": [
        "sys.float_info.max + 2 == sys.float_info.max"
      ],
      "metadata": {
        "colab": {
          "base_uri": "https://localhost:8080/"
        },
        "id": "hcYiPu_cCE9N",
        "outputId": "ed5dd5a5-05ec-445c-c070-3f788a2f5ca3"
      },
      "execution_count": 33,
      "outputs": [
        {
          "output_type": "execute_result",
          "data": {
            "text/plain": [
              "True"
            ]
          },
          "metadata": {},
          "execution_count": 33
        }
      ]
    },
    {
      "cell_type": "code",
      "source": [
        "sys.float_info.max + sys.float_info.max"
      ],
      "metadata": {
        "colab": {
          "base_uri": "https://localhost:8080/"
        },
        "id": "K0_I03pYCJvF",
        "outputId": "0ef0633a-750d-4865-f83c-a58618a95a53"
      },
      "execution_count": 34,
      "outputs": [
        {
          "output_type": "execute_result",
          "data": {
            "text/plain": [
              "inf"
            ]
          },
          "metadata": {},
          "execution_count": 34
        }
      ]
    },
    {
      "cell_type": "code",
      "source": [
        "2**(-1075)"
      ],
      "metadata": {
        "colab": {
          "base_uri": "https://localhost:8080/"
        },
        "id": "-GIq6xCOCNZi",
        "outputId": "42f19625-b96d-4188-bf6b-deddef8b2d1e"
      },
      "execution_count": 35,
      "outputs": [
        {
          "output_type": "execute_result",
          "data": {
            "text/plain": [
              "0.0"
            ]
          },
          "metadata": {},
          "execution_count": 35
        }
      ]
    },
    {
      "cell_type": "code",
      "source": [
        "2**(-1075) == 0"
      ],
      "metadata": {
        "colab": {
          "base_uri": "https://localhost:8080/"
        },
        "id": "eOO_PbYnCO3p",
        "outputId": "a87f391e-8e97-495e-feaa-6afd259f7c8f"
      },
      "execution_count": 36,
      "outputs": [
        {
          "output_type": "execute_result",
          "data": {
            "text/plain": [
              "True"
            ]
          },
          "metadata": {},
          "execution_count": 36
        }
      ]
    },
    {
      "cell_type": "code",
      "source": [
        "2**(-1074)"
      ],
      "metadata": {
        "colab": {
          "base_uri": "https://localhost:8080/"
        },
        "id": "YdQdanHUCPBA",
        "outputId": "6bae6b38-9d88-4b7f-ecbe-77ba750bf963"
      },
      "execution_count": 37,
      "outputs": [
        {
          "output_type": "execute_result",
          "data": {
            "text/plain": [
              "5e-324"
            ]
          },
          "metadata": {},
          "execution_count": 37
        }
      ]
    },
    {
      "cell_type": "markdown",
      "source": [
        "Round-off Errors"
      ],
      "metadata": {
        "id": "ADXHNewS8_0g"
      }
    },
    {
      "cell_type": "code",
      "source": [
        "# Before and after rounding off the result to 2 decimal places\n",
        "a = 1.1\n",
        "b = 2.2\n",
        "\n",
        "sum_ab = a + b\n",
        "print('Before:',sum_ab)\n",
        "\n",
        "rounded_sum = round(sum_ab, 2)\n",
        "print('After:',rounded_sum)\n"
      ],
      "metadata": {
        "colab": {
          "base_uri": "https://localhost:8080/"
        },
        "id": "Zptx6FP39Y1g",
        "outputId": "cba59407-9d61-437f-c009-bc08643edbfb"
      },
      "execution_count": 16,
      "outputs": [
        {
          "output_type": "stream",
          "name": "stdout",
          "text": [
            "Before: 3.3000000000000003\n",
            "After: 3.3\n"
          ]
        }
      ]
    },
    {
      "cell_type": "code",
      "source": [
        "# Accumulation of round-off error\n",
        "\n",
        "# If we only do once\n",
        "1 + 1/3 - 1/3\n",
        "\n",
        "def add_and_subtract(iterations):\n",
        "    result = 1\n",
        "\n",
        "    for i in range(iterations):\n",
        "        result += 1/3\n",
        "\n",
        "    for i in range(iterations):\n",
        "        result -= 1/3\n",
        "    return result\n",
        "\n",
        "# If we do this 100 times\n",
        "add_and_subtract(100)"
      ],
      "metadata": {
        "colab": {
          "base_uri": "https://localhost:8080/"
        },
        "id": "0POADxJG_KbC",
        "outputId": "1eb953b9-fc96-45e9-ad5c-656ad08ba5b9"
      },
      "execution_count": 23,
      "outputs": [
        {
          "output_type": "execute_result",
          "data": {
            "text/plain": [
              "1.0000000000000002"
            ]
          },
          "metadata": {},
          "execution_count": 23
        }
      ]
    },
    {
      "cell_type": "code",
      "source": [
        "# If we do this 1000 times\n",
        "add_and_subtract(1000)"
      ],
      "metadata": {
        "colab": {
          "base_uri": "https://localhost:8080/"
        },
        "id": "uTjtGoYVAxVL",
        "outputId": "78bef1f2-e6b8-4127-910b-0abfbaf5af5d"
      },
      "execution_count": 24,
      "outputs": [
        {
          "output_type": "execute_result",
          "data": {
            "text/plain": [
              "1.0000000000000064"
            ]
          },
          "metadata": {},
          "execution_count": 24
        }
      ]
    },
    {
      "cell_type": "code",
      "source": [
        "# If we do this 10000 times\n",
        "add_and_subtract(10000)"
      ],
      "metadata": {
        "colab": {
          "base_uri": "https://localhost:8080/"
        },
        "id": "IEuz98vxAzBS",
        "outputId": "5aa6f741-7c2f-4de8-8577-c9d4817dee2c"
      },
      "execution_count": 25,
      "outputs": [
        {
          "output_type": "execute_result",
          "data": {
            "text/plain": [
              "1.0000000000001166"
            ]
          },
          "metadata": {},
          "execution_count": 25
        }
      ]
    }
  ]
}