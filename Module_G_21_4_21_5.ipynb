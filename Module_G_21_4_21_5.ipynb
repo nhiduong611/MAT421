{
  "nbformat": 4,
  "nbformat_minor": 0,
  "metadata": {
    "colab": {
      "provenance": [],
      "toc_visible": true,
      "authorship_tag": "ABX9TyOzOycK/LKCsA3IRKk4v7ee",
      "include_colab_link": true
    },
    "kernelspec": {
      "name": "python3",
      "display_name": "Python 3"
    },
    "language_info": {
      "name": "python"
    }
  },
  "cells": [
    {
      "cell_type": "markdown",
      "metadata": {
        "id": "view-in-github",
        "colab_type": "text"
      },
      "source": [
        "<a href=\"https://colab.research.google.com/github/nhiduong611/MAT421/blob/main/Module_G_21_4_21_5.ipynb\" target=\"_parent\"><img src=\"https://colab.research.google.com/assets/colab-badge.svg\" alt=\"Open In Colab\"/></a>"
      ]
    },
    {
      "cell_type": "markdown",
      "source": [
        "Simpson's Rule"
      ],
      "metadata": {
        "id": "nOxKlsLEQjs5"
      }
    },
    {
      "cell_type": "code",
      "execution_count": 2,
      "metadata": {
        "colab": {
          "base_uri": "https://localhost:8080/"
        },
        "id": "2a7qMn9gPLvi",
        "outputId": "eb581f60-1da8-4d3e-9196-351b28635168"
      },
      "outputs": [
        {
          "output_type": "execute_result",
          "data": {
            "text/plain": [
              "2.0001095173150043"
            ]
          },
          "metadata": {},
          "execution_count": 2
        }
      ],
      "source": [
        "#Approximate the definite integral of f(x) = sin(x) from a to b by Simpson's rule.\n",
        "\n",
        "def simpsons_rule(f, a, b, n):\n",
        "    if n % 2:\n",
        "        raise ValueError(\"n must be even\")\n",
        "\n",
        "    h = (b - a) / n\n",
        "    x = a\n",
        "    s = f(a)\n",
        "\n",
        "    for i in range(1, n, 2):\n",
        "        x = a + i * h\n",
        "        s += 4 * f(x)\n",
        "\n",
        "    for i in range(2, n-1, 2):\n",
        "        x = a + i * h\n",
        "        s += 2 * f(x)\n",
        "\n",
        "    s += f(b)\n",
        "    return h / 3 * s\n",
        "\n",
        "# Example function and usage of simpsons_rule\n",
        "import math\n",
        "\n",
        "# Define the function to integrate\n",
        "def func(x):\n",
        "    return math.sin(x)\n",
        "\n",
        "# Integration from 0 to pi of sin(x), which should be 2\n",
        "a = 0\n",
        "b = math.pi\n",
        "n = 10  # Number of subintervals, should be even\n",
        "\n",
        "integral_approximation = simpsons_rule(func, a, b, n)\n",
        "integral_approximation"
      ]
    }
  ]
}